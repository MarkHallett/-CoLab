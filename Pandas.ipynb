{
  "nbformat": 4,
  "nbformat_minor": 0,
  "metadata": {
    "colab": {
      "name": "Pandas.ipynb",
      "version": "0.3.2",
      "provenance": [],
      "collapsed_sections": [],
      "include_colab_link": true
    },
    "kernelspec": {
      "name": "python3",
      "display_name": "Python 3"
    }
  },
  "cells": [
    {
      "cell_type": "markdown",
      "metadata": {
        "id": "view-in-github",
        "colab_type": "text"
      },
      "source": [
        "<a href=\"https://colab.research.google.com/github/MarkHallett/-CoLab/blob/master/Pandas.ipynb\" target=\"_parent\"><img src=\"https://colab.research.google.com/assets/colab-badge.svg\" alt=\"Open In Colab\"/></a>"
      ]
    },
    {
      "metadata": {
        "id": "MxRlN2EBegcn",
        "colab_type": "text"
      },
      "cell_type": "markdown",
      "source": [
        "# Mark Hallett Pandas cheat sheet"
      ]
    },
    {
      "metadata": {
        "id": "emigypU1iDIO",
        "colab_type": "text"
      },
      "cell_type": "markdown",
      "source": [
        "## General"
      ]
    },
    {
      "metadata": {
        "id": "hMPpCxX-1nOk",
        "colab_type": "code",
        "colab": {}
      },
      "cell_type": "code",
      "source": [
        "import pandas as pd\n",
        "import numpy as np"
      ],
      "execution_count": 0,
      "outputs": []
    },
    {
      "metadata": {
        "id": "QAn9wcZMiVjg",
        "colab_type": "code",
        "colab": {
          "base_uri": "https://localhost:8080/",
          "height": 86
        },
        "outputId": "643029d0-39dd-4bb6-e1a5-7b8b030d2f1d"
      },
      "cell_type": "code",
      "source": [
        "d = ({'A':1,'B':'b','C':2.2})\n",
        "df = pd.DataFrame(d,[0])\n",
        "df.dtypes"
      ],
      "execution_count": 18,
      "outputs": [
        {
          "output_type": "execute_result",
          "data": {
            "text/plain": [
              "A      int64\n",
              "B     object\n",
              "C    float64\n",
              "dtype: object"
            ]
          },
          "metadata": {
            "tags": []
          },
          "execution_count": 18
        }
      ]
    },
    {
      "metadata": {
        "id": "mnyQ73d3kTCh",
        "colab_type": "code",
        "colab": {
          "base_uri": "https://localhost:8080/",
          "height": 81
        },
        "outputId": "46899819-fe13-4673-967b-b60f9c5e7efd"
      },
      "cell_type": "code",
      "source": [
        "df.head(5)"
      ],
      "execution_count": 20,
      "outputs": [
        {
          "output_type": "execute_result",
          "data": {
            "text/html": [
              "<div>\n",
              "<style scoped>\n",
              "    .dataframe tbody tr th:only-of-type {\n",
              "        vertical-align: middle;\n",
              "    }\n",
              "\n",
              "    .dataframe tbody tr th {\n",
              "        vertical-align: top;\n",
              "    }\n",
              "\n",
              "    .dataframe thead th {\n",
              "        text-align: right;\n",
              "    }\n",
              "</style>\n",
              "<table border=\"1\" class=\"dataframe\">\n",
              "  <thead>\n",
              "    <tr style=\"text-align: right;\">\n",
              "      <th></th>\n",
              "      <th>A</th>\n",
              "      <th>B</th>\n",
              "      <th>C</th>\n",
              "    </tr>\n",
              "  </thead>\n",
              "  <tbody>\n",
              "    <tr>\n",
              "      <th>0</th>\n",
              "      <td>1</td>\n",
              "      <td>b</td>\n",
              "      <td>2.2</td>\n",
              "    </tr>\n",
              "  </tbody>\n",
              "</table>\n",
              "</div>"
            ],
            "text/plain": [
              "   A  B    C\n",
              "0  1  b  2.2"
            ]
          },
          "metadata": {
            "tags": []
          },
          "execution_count": 20
        }
      ]
    },
    {
      "metadata": {
        "id": "3Y_2fWQ2kfjW",
        "colab_type": "code",
        "colab": {
          "base_uri": "https://localhost:8080/",
          "height": 34
        },
        "outputId": "e864d8ea-67f9-4056-85d5-0eaf8198dbe9"
      },
      "cell_type": "code",
      "source": [
        "df.index"
      ],
      "execution_count": 22,
      "outputs": [
        {
          "output_type": "execute_result",
          "data": {
            "text/plain": [
              "Int64Index([0], dtype='int64')"
            ]
          },
          "metadata": {
            "tags": []
          },
          "execution_count": 22
        }
      ]
    },
    {
      "metadata": {
        "id": "c8Zl_OIAiLhj",
        "colab_type": "text"
      },
      "cell_type": "markdown",
      "source": [
        "## Data Into df"
      ]
    },
    {
      "metadata": {
        "id": "PWlbo0Ij7JDn",
        "colab_type": "code",
        "colab": {
          "base_uri": "https://localhost:8080/",
          "height": 112
        },
        "outputId": "ec7eb27f-02ec-4a76-fbe3-3dea828e9425"
      },
      "cell_type": "code",
      "source": [
        "import pandas as pd\n",
        "data1 = { 'a':['b','c'] ,  'B':['A','B'] , 'c':['1','2'] , 'd':['1','2']   }\n",
        "\n",
        "pd1 = pd.DataFrame(data1)\n",
        "pd1"
      ],
      "execution_count": 2,
      "outputs": [
        {
          "output_type": "execute_result",
          "data": {
            "text/html": [
              "<div>\n",
              "<style scoped>\n",
              "    .dataframe tbody tr th:only-of-type {\n",
              "        vertical-align: middle;\n",
              "    }\n",
              "\n",
              "    .dataframe tbody tr th {\n",
              "        vertical-align: top;\n",
              "    }\n",
              "\n",
              "    .dataframe thead th {\n",
              "        text-align: right;\n",
              "    }\n",
              "</style>\n",
              "<table border=\"1\" class=\"dataframe\">\n",
              "  <thead>\n",
              "    <tr style=\"text-align: right;\">\n",
              "      <th></th>\n",
              "      <th>B</th>\n",
              "      <th>a</th>\n",
              "      <th>c</th>\n",
              "      <th>d</th>\n",
              "    </tr>\n",
              "  </thead>\n",
              "  <tbody>\n",
              "    <tr>\n",
              "      <th>0</th>\n",
              "      <td>A</td>\n",
              "      <td>b</td>\n",
              "      <td>1</td>\n",
              "      <td>1</td>\n",
              "    </tr>\n",
              "    <tr>\n",
              "      <th>1</th>\n",
              "      <td>B</td>\n",
              "      <td>c</td>\n",
              "      <td>2</td>\n",
              "      <td>2</td>\n",
              "    </tr>\n",
              "  </tbody>\n",
              "</table>\n",
              "</div>"
            ],
            "text/plain": [
              "   B  a  c  d\n",
              "0  A  b  1  1\n",
              "1  B  c  2  2"
            ]
          },
          "metadata": {
            "tags": []
          },
          "execution_count": 2
        }
      ]
    },
    {
      "metadata": {
        "id": "hSYRKJ_TeYV7",
        "colab_type": "code",
        "colab": {
          "base_uri": "https://localhost:8080/",
          "height": 175
        },
        "outputId": "1ec955a9-ed5c-4940-d8e3-2f22c44bb4ee"
      },
      "cell_type": "code",
      "source": [
        "df2 = pd.DataFrame(\n",
        "              { 'A' : 1., # All one vlaue\n",
        "                'B' : pd.Timestamp('20130102'),   # date                   \n",
        "                'C ' :pd.Series(1,index=list(range(4)),dtype='float32'), # series\n",
        "                'D' : np.array([3] * 4,dtype='int32'), # array\n",
        "                'E' : pd.Categorical([\"test\",\"train\",\"test\",\"train\"]),\n",
        "                'F' : 'foo', \n",
        "                'G' : [1,2,3,4]  # list\n",
        "              })\n",
        "df2"
      ],
      "execution_count": 7,
      "outputs": [
        {
          "output_type": "execute_result",
          "data": {
            "text/html": [
              "<div>\n",
              "<style scoped>\n",
              "    .dataframe tbody tr th:only-of-type {\n",
              "        vertical-align: middle;\n",
              "    }\n",
              "\n",
              "    .dataframe tbody tr th {\n",
              "        vertical-align: top;\n",
              "    }\n",
              "\n",
              "    .dataframe thead th {\n",
              "        text-align: right;\n",
              "    }\n",
              "</style>\n",
              "<table border=\"1\" class=\"dataframe\">\n",
              "  <thead>\n",
              "    <tr style=\"text-align: right;\">\n",
              "      <th></th>\n",
              "      <th>A</th>\n",
              "      <th>B</th>\n",
              "      <th>C</th>\n",
              "      <th>D</th>\n",
              "      <th>E</th>\n",
              "      <th>F</th>\n",
              "      <th>G</th>\n",
              "    </tr>\n",
              "  </thead>\n",
              "  <tbody>\n",
              "    <tr>\n",
              "      <th>0</th>\n",
              "      <td>1.0</td>\n",
              "      <td>2013-01-02</td>\n",
              "      <td>1.0</td>\n",
              "      <td>3</td>\n",
              "      <td>test</td>\n",
              "      <td>foo</td>\n",
              "      <td>1</td>\n",
              "    </tr>\n",
              "    <tr>\n",
              "      <th>1</th>\n",
              "      <td>1.0</td>\n",
              "      <td>2013-01-02</td>\n",
              "      <td>1.0</td>\n",
              "      <td>3</td>\n",
              "      <td>train</td>\n",
              "      <td>foo</td>\n",
              "      <td>2</td>\n",
              "    </tr>\n",
              "    <tr>\n",
              "      <th>2</th>\n",
              "      <td>1.0</td>\n",
              "      <td>2013-01-02</td>\n",
              "      <td>1.0</td>\n",
              "      <td>3</td>\n",
              "      <td>test</td>\n",
              "      <td>foo</td>\n",
              "      <td>3</td>\n",
              "    </tr>\n",
              "    <tr>\n",
              "      <th>3</th>\n",
              "      <td>1.0</td>\n",
              "      <td>2013-01-02</td>\n",
              "      <td>1.0</td>\n",
              "      <td>3</td>\n",
              "      <td>train</td>\n",
              "      <td>foo</td>\n",
              "      <td>4</td>\n",
              "    </tr>\n",
              "  </tbody>\n",
              "</table>\n",
              "</div>"
            ],
            "text/plain": [
              "     A          B   C   D      E    F  G\n",
              "0  1.0 2013-01-02  1.0  3   test  foo  1\n",
              "1  1.0 2013-01-02  1.0  3  train  foo  2\n",
              "2  1.0 2013-01-02  1.0  3   test  foo  3\n",
              "3  1.0 2013-01-02  1.0  3  train  foo  4"
            ]
          },
          "metadata": {
            "tags": []
          },
          "execution_count": 7
        }
      ]
    },
    {
      "metadata": {
        "id": "sZNjkDCteb3X",
        "colab_type": "code",
        "colab": {
          "base_uri": "https://localhost:8080/",
          "height": 69
        },
        "outputId": "0dec15b6-c1c6-40a1-c3da-35ff92ff2a31"
      },
      "cell_type": "code",
      "source": [
        "# eg dates and data\n",
        "dates = pd.date_range('20130101', periods=6)\n",
        "dates"
      ],
      "execution_count": 12,
      "outputs": [
        {
          "output_type": "execute_result",
          "data": {
            "text/plain": [
              "DatetimeIndex(['2013-01-01', '2013-01-02', '2013-01-03', '2013-01-04',\n",
              "               '2013-01-05', '2013-01-06'],\n",
              "              dtype='datetime64[ns]', freq='D')"
            ]
          },
          "metadata": {
            "tags": []
          },
          "execution_count": 12
        }
      ]
    },
    {
      "metadata": {
        "id": "21pGlzxygmp_",
        "colab_type": "code",
        "colab": {
          "base_uri": "https://localhost:8080/",
          "height": 238
        },
        "outputId": "83ba1569-4fd2-479a-a4fa-34b30b525de3"
      },
      "cell_type": "code",
      "source": [
        "df = pd.DataFrame(np.random.randn(6,4), index=dates, columns=list('ABCD'))\n",
        "df"
      ],
      "execution_count": 13,
      "outputs": [
        {
          "output_type": "execute_result",
          "data": {
            "text/html": [
              "<div>\n",
              "<style scoped>\n",
              "    .dataframe tbody tr th:only-of-type {\n",
              "        vertical-align: middle;\n",
              "    }\n",
              "\n",
              "    .dataframe tbody tr th {\n",
              "        vertical-align: top;\n",
              "    }\n",
              "\n",
              "    .dataframe thead th {\n",
              "        text-align: right;\n",
              "    }\n",
              "</style>\n",
              "<table border=\"1\" class=\"dataframe\">\n",
              "  <thead>\n",
              "    <tr style=\"text-align: right;\">\n",
              "      <th></th>\n",
              "      <th>A</th>\n",
              "      <th>B</th>\n",
              "      <th>C</th>\n",
              "      <th>D</th>\n",
              "    </tr>\n",
              "  </thead>\n",
              "  <tbody>\n",
              "    <tr>\n",
              "      <th>2013-01-01</th>\n",
              "      <td>0.904638</td>\n",
              "      <td>0.800514</td>\n",
              "      <td>0.209786</td>\n",
              "      <td>-1.556893</td>\n",
              "    </tr>\n",
              "    <tr>\n",
              "      <th>2013-01-02</th>\n",
              "      <td>1.404269</td>\n",
              "      <td>0.022620</td>\n",
              "      <td>0.269261</td>\n",
              "      <td>-1.039994</td>\n",
              "    </tr>\n",
              "    <tr>\n",
              "      <th>2013-01-03</th>\n",
              "      <td>-1.355673</td>\n",
              "      <td>1.716740</td>\n",
              "      <td>-1.635053</td>\n",
              "      <td>1.216868</td>\n",
              "    </tr>\n",
              "    <tr>\n",
              "      <th>2013-01-04</th>\n",
              "      <td>2.649250</td>\n",
              "      <td>0.727925</td>\n",
              "      <td>-0.449194</td>\n",
              "      <td>-0.152717</td>\n",
              "    </tr>\n",
              "    <tr>\n",
              "      <th>2013-01-05</th>\n",
              "      <td>0.146481</td>\n",
              "      <td>-1.367872</td>\n",
              "      <td>1.148938</td>\n",
              "      <td>0.845147</td>\n",
              "    </tr>\n",
              "    <tr>\n",
              "      <th>2013-01-06</th>\n",
              "      <td>0.396026</td>\n",
              "      <td>-1.499583</td>\n",
              "      <td>-0.303968</td>\n",
              "      <td>0.043829</td>\n",
              "    </tr>\n",
              "  </tbody>\n",
              "</table>\n",
              "</div>"
            ],
            "text/plain": [
              "                   A         B         C         D\n",
              "2013-01-01  0.904638  0.800514  0.209786 -1.556893\n",
              "2013-01-02  1.404269  0.022620  0.269261 -1.039994\n",
              "2013-01-03 -1.355673  1.716740 -1.635053  1.216868\n",
              "2013-01-04  2.649250  0.727925 -0.449194 -0.152717\n",
              "2013-01-05  0.146481 -1.367872  1.148938  0.845147\n",
              "2013-01-06  0.396026 -1.499583 -0.303968  0.043829"
            ]
          },
          "metadata": {
            "tags": []
          },
          "execution_count": 13
        }
      ]
    },
    {
      "metadata": {
        "id": "wz8l7Rk0g6Ut",
        "colab_type": "code",
        "colab": {}
      },
      "cell_type": "code",
      "source": [
        ""
      ],
      "execution_count": 0,
      "outputs": []
    },
    {
      "metadata": {
        "id": "P333W_x1jZfe",
        "colab_type": "text"
      },
      "cell_type": "markdown",
      "source": [
        "## Add to DataFrame"
      ]
    },
    {
      "metadata": {
        "id": "pCUzQrL_jf27",
        "colab_type": "text"
      },
      "cell_type": "markdown",
      "source": [
        "## Modify DataFrame"
      ]
    },
    {
      "metadata": {
        "id": "TNyyEHhLjmlZ",
        "colab_type": "text"
      },
      "cell_type": "markdown",
      "source": [
        "## Delete from DataFrame"
      ]
    },
    {
      "metadata": {
        "id": "PPbjvOp0ju_1",
        "colab_type": "text"
      },
      "cell_type": "markdown",
      "source": [
        "## Reshape DataFrame"
      ]
    },
    {
      "metadata": {
        "id": "bVIBfzN5jz7Y",
        "colab_type": "text"
      },
      "cell_type": "markdown",
      "source": [
        "## Select from DataFrame"
      ]
    },
    {
      "metadata": {
        "id": "hnZRs_RSj3YH",
        "colab_type": "code",
        "colab": {}
      },
      "cell_type": "code",
      "source": [
        ""
      ],
      "execution_count": 0,
      "outputs": []
    },
    {
      "metadata": {
        "id": "ZIhiS4M6jd3o",
        "colab_type": "code",
        "colab": {}
      },
      "cell_type": "code",
      "source": [
        ""
      ],
      "execution_count": 0,
      "outputs": []
    }
  ]
}