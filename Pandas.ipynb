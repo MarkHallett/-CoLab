{
  "nbformat": 4,
  "nbformat_minor": 0,
  "metadata": {
    "colab": {
      "name": "Pandas.ipynb",
      "version": "0.3.2",
      "provenance": [],
      "collapsed_sections": [],
      "toc_visible": true,
      "include_colab_link": true
    },
    "kernelspec": {
      "name": "python3",
      "display_name": "Python 3"
    }
  },
  "cells": [
    {
      "cell_type": "markdown",
      "metadata": {
        "id": "view-in-github",
        "colab_type": "text"
      },
      "source": [
        "<a href=\"https://colab.research.google.com/github/MarkHallett/-CoLab/blob/master/Pandas.ipynb\" target=\"_parent\"><img src=\"https://colab.research.google.com/assets/colab-badge.svg\" alt=\"Open In Colab\"/></a>"
      ]
    },
    {
      "metadata": {
        "id": "MxRlN2EBegcn",
        "colab_type": "text"
      },
      "cell_type": "markdown",
      "source": [
        "# Mark Hallett Pandas cheat sheet"
      ]
    },
    {
      "metadata": {
        "id": "emigypU1iDIO",
        "colab_type": "text"
      },
      "cell_type": "markdown",
      "source": [
        "## General"
      ]
    },
    {
      "metadata": {
        "id": "hMPpCxX-1nOk",
        "colab_type": "code",
        "colab": {}
      },
      "cell_type": "code",
      "source": [
        "import pandas as pd\n",
        "import numpy as np"
      ],
      "execution_count": 0,
      "outputs": []
    },
    {
      "metadata": {
        "id": "QAn9wcZMiVjg",
        "colab_type": "code",
        "colab": {
          "base_uri": "https://localhost:8080/",
          "height": 86
        },
        "outputId": "643029d0-39dd-4bb6-e1a5-7b8b030d2f1d"
      },
      "cell_type": "code",
      "source": [
        "d = ({'A':1,'B':'b','C':2.2})\n",
        "df = pd.DataFrame(d,[0])\n",
        "df.dtypes"
      ],
      "execution_count": 18,
      "outputs": [
        {
          "output_type": "execute_result",
          "data": {
            "text/plain": [
              "A      int64\n",
              "B     object\n",
              "C    float64\n",
              "dtype: object"
            ]
          },
          "metadata": {
            "tags": []
          },
          "execution_count": 18
        }
      ]
    },
    {
      "metadata": {
        "id": "mnyQ73d3kTCh",
        "colab_type": "code",
        "colab": {
          "base_uri": "https://localhost:8080/",
          "height": 81
        },
        "outputId": "46899819-fe13-4673-967b-b60f9c5e7efd"
      },
      "cell_type": "code",
      "source": [
        "df.head(5)"
      ],
      "execution_count": 20,
      "outputs": [
        {
          "output_type": "execute_result",
          "data": {
            "text/html": [
              "<div>\n",
              "<style scoped>\n",
              "    .dataframe tbody tr th:only-of-type {\n",
              "        vertical-align: middle;\n",
              "    }\n",
              "\n",
              "    .dataframe tbody tr th {\n",
              "        vertical-align: top;\n",
              "    }\n",
              "\n",
              "    .dataframe thead th {\n",
              "        text-align: right;\n",
              "    }\n",
              "</style>\n",
              "<table border=\"1\" class=\"dataframe\">\n",
              "  <thead>\n",
              "    <tr style=\"text-align: right;\">\n",
              "      <th></th>\n",
              "      <th>A</th>\n",
              "      <th>B</th>\n",
              "      <th>C</th>\n",
              "    </tr>\n",
              "  </thead>\n",
              "  <tbody>\n",
              "    <tr>\n",
              "      <th>0</th>\n",
              "      <td>1</td>\n",
              "      <td>b</td>\n",
              "      <td>2.2</td>\n",
              "    </tr>\n",
              "  </tbody>\n",
              "</table>\n",
              "</div>"
            ],
            "text/plain": [
              "   A  B    C\n",
              "0  1  b  2.2"
            ]
          },
          "metadata": {
            "tags": []
          },
          "execution_count": 20
        }
      ]
    },
    {
      "metadata": {
        "id": "3Y_2fWQ2kfjW",
        "colab_type": "code",
        "colab": {
          "base_uri": "https://localhost:8080/",
          "height": 34
        },
        "outputId": "e864d8ea-67f9-4056-85d5-0eaf8198dbe9"
      },
      "cell_type": "code",
      "source": [
        "df.index"
      ],
      "execution_count": 22,
      "outputs": [
        {
          "output_type": "execute_result",
          "data": {
            "text/plain": [
              "Int64Index([0], dtype='int64')"
            ]
          },
          "metadata": {
            "tags": []
          },
          "execution_count": 22
        }
      ]
    },
    {
      "metadata": {
        "id": "dCTpZ97ElM0r",
        "colab_type": "code",
        "colab": {
          "base_uri": "https://localhost:8080/",
          "height": 300
        },
        "outputId": "3df4b8e6-f643-4d59-ee02-a5ea7b6d0c92"
      },
      "cell_type": "code",
      "source": [
        "df.describe()"
      ],
      "execution_count": 23,
      "outputs": [
        {
          "output_type": "execute_result",
          "data": {
            "text/html": [
              "<div>\n",
              "<style scoped>\n",
              "    .dataframe tbody tr th:only-of-type {\n",
              "        vertical-align: middle;\n",
              "    }\n",
              "\n",
              "    .dataframe tbody tr th {\n",
              "        vertical-align: top;\n",
              "    }\n",
              "\n",
              "    .dataframe thead th {\n",
              "        text-align: right;\n",
              "    }\n",
              "</style>\n",
              "<table border=\"1\" class=\"dataframe\">\n",
              "  <thead>\n",
              "    <tr style=\"text-align: right;\">\n",
              "      <th></th>\n",
              "      <th>A</th>\n",
              "      <th>C</th>\n",
              "    </tr>\n",
              "  </thead>\n",
              "  <tbody>\n",
              "    <tr>\n",
              "      <th>count</th>\n",
              "      <td>1.0</td>\n",
              "      <td>1.0</td>\n",
              "    </tr>\n",
              "    <tr>\n",
              "      <th>mean</th>\n",
              "      <td>1.0</td>\n",
              "      <td>2.2</td>\n",
              "    </tr>\n",
              "    <tr>\n",
              "      <th>std</th>\n",
              "      <td>NaN</td>\n",
              "      <td>NaN</td>\n",
              "    </tr>\n",
              "    <tr>\n",
              "      <th>min</th>\n",
              "      <td>1.0</td>\n",
              "      <td>2.2</td>\n",
              "    </tr>\n",
              "    <tr>\n",
              "      <th>25%</th>\n",
              "      <td>1.0</td>\n",
              "      <td>2.2</td>\n",
              "    </tr>\n",
              "    <tr>\n",
              "      <th>50%</th>\n",
              "      <td>1.0</td>\n",
              "      <td>2.2</td>\n",
              "    </tr>\n",
              "    <tr>\n",
              "      <th>75%</th>\n",
              "      <td>1.0</td>\n",
              "      <td>2.2</td>\n",
              "    </tr>\n",
              "    <tr>\n",
              "      <th>max</th>\n",
              "      <td>1.0</td>\n",
              "      <td>2.2</td>\n",
              "    </tr>\n",
              "  </tbody>\n",
              "</table>\n",
              "</div>"
            ],
            "text/plain": [
              "         A    C\n",
              "count  1.0  1.0\n",
              "mean   1.0  2.2\n",
              "std    NaN  NaN\n",
              "min    1.0  2.2\n",
              "25%    1.0  2.2\n",
              "50%    1.0  2.2\n",
              "75%    1.0  2.2\n",
              "max    1.0  2.2"
            ]
          },
          "metadata": {
            "tags": []
          },
          "execution_count": 23
        }
      ]
    },
    {
      "metadata": {
        "id": "FDVpRGdylQ4f",
        "colab_type": "code",
        "colab": {
          "base_uri": "https://localhost:8080/",
          "height": 143
        },
        "outputId": "3bda5aef-e7c5-4b4c-b62e-14e02a4016a7"
      },
      "cell_type": "code",
      "source": [
        "df.T"
      ],
      "execution_count": 24,
      "outputs": [
        {
          "output_type": "execute_result",
          "data": {
            "text/html": [
              "<div>\n",
              "<style scoped>\n",
              "    .dataframe tbody tr th:only-of-type {\n",
              "        vertical-align: middle;\n",
              "    }\n",
              "\n",
              "    .dataframe tbody tr th {\n",
              "        vertical-align: top;\n",
              "    }\n",
              "\n",
              "    .dataframe thead th {\n",
              "        text-align: right;\n",
              "    }\n",
              "</style>\n",
              "<table border=\"1\" class=\"dataframe\">\n",
              "  <thead>\n",
              "    <tr style=\"text-align: right;\">\n",
              "      <th></th>\n",
              "      <th>0</th>\n",
              "    </tr>\n",
              "  </thead>\n",
              "  <tbody>\n",
              "    <tr>\n",
              "      <th>A</th>\n",
              "      <td>1</td>\n",
              "    </tr>\n",
              "    <tr>\n",
              "      <th>B</th>\n",
              "      <td>b</td>\n",
              "    </tr>\n",
              "    <tr>\n",
              "      <th>C</th>\n",
              "      <td>2.2</td>\n",
              "    </tr>\n",
              "  </tbody>\n",
              "</table>\n",
              "</div>"
            ],
            "text/plain": [
              "     0\n",
              "A    1\n",
              "B    b\n",
              "C  2.2"
            ]
          },
          "metadata": {
            "tags": []
          },
          "execution_count": 24
        }
      ]
    },
    {
      "metadata": {
        "id": "lO3xaieZlWzg",
        "colab_type": "code",
        "colab": {
          "base_uri": "https://localhost:8080/",
          "height": 81
        },
        "outputId": "c462d728-c0e8-40c9-a6ed-83e483d7f78e"
      },
      "cell_type": "code",
      "source": [
        "df"
      ],
      "execution_count": 25,
      "outputs": [
        {
          "output_type": "execute_result",
          "data": {
            "text/html": [
              "<div>\n",
              "<style scoped>\n",
              "    .dataframe tbody tr th:only-of-type {\n",
              "        vertical-align: middle;\n",
              "    }\n",
              "\n",
              "    .dataframe tbody tr th {\n",
              "        vertical-align: top;\n",
              "    }\n",
              "\n",
              "    .dataframe thead th {\n",
              "        text-align: right;\n",
              "    }\n",
              "</style>\n",
              "<table border=\"1\" class=\"dataframe\">\n",
              "  <thead>\n",
              "    <tr style=\"text-align: right;\">\n",
              "      <th></th>\n",
              "      <th>A</th>\n",
              "      <th>B</th>\n",
              "      <th>C</th>\n",
              "    </tr>\n",
              "  </thead>\n",
              "  <tbody>\n",
              "    <tr>\n",
              "      <th>0</th>\n",
              "      <td>1</td>\n",
              "      <td>b</td>\n",
              "      <td>2.2</td>\n",
              "    </tr>\n",
              "  </tbody>\n",
              "</table>\n",
              "</div>"
            ],
            "text/plain": [
              "   A  B    C\n",
              "0  1  b  2.2"
            ]
          },
          "metadata": {
            "tags": []
          },
          "execution_count": 25
        }
      ]
    },
    {
      "metadata": {
        "id": "c8Zl_OIAiLhj",
        "colab_type": "text"
      },
      "cell_type": "markdown",
      "source": [
        "## Data Into df"
      ]
    },
    {
      "metadata": {
        "id": "PWlbo0Ij7JDn",
        "colab_type": "code",
        "colab": {
          "base_uri": "https://localhost:8080/",
          "height": 112
        },
        "outputId": "ec7eb27f-02ec-4a76-fbe3-3dea828e9425"
      },
      "cell_type": "code",
      "source": [
        "import pandas as pd\n",
        "data1 = { 'a':['b','c'] ,  'B':['A','B'] , 'c':['1','2'] , 'd':['1','2']   }\n",
        "\n",
        "pd1 = pd.DataFrame(data1)\n",
        "pd1"
      ],
      "execution_count": 2,
      "outputs": [
        {
          "output_type": "execute_result",
          "data": {
            "text/html": [
              "<div>\n",
              "<style scoped>\n",
              "    .dataframe tbody tr th:only-of-type {\n",
              "        vertical-align: middle;\n",
              "    }\n",
              "\n",
              "    .dataframe tbody tr th {\n",
              "        vertical-align: top;\n",
              "    }\n",
              "\n",
              "    .dataframe thead th {\n",
              "        text-align: right;\n",
              "    }\n",
              "</style>\n",
              "<table border=\"1\" class=\"dataframe\">\n",
              "  <thead>\n",
              "    <tr style=\"text-align: right;\">\n",
              "      <th></th>\n",
              "      <th>B</th>\n",
              "      <th>a</th>\n",
              "      <th>c</th>\n",
              "      <th>d</th>\n",
              "    </tr>\n",
              "  </thead>\n",
              "  <tbody>\n",
              "    <tr>\n",
              "      <th>0</th>\n",
              "      <td>A</td>\n",
              "      <td>b</td>\n",
              "      <td>1</td>\n",
              "      <td>1</td>\n",
              "    </tr>\n",
              "    <tr>\n",
              "      <th>1</th>\n",
              "      <td>B</td>\n",
              "      <td>c</td>\n",
              "      <td>2</td>\n",
              "      <td>2</td>\n",
              "    </tr>\n",
              "  </tbody>\n",
              "</table>\n",
              "</div>"
            ],
            "text/plain": [
              "   B  a  c  d\n",
              "0  A  b  1  1\n",
              "1  B  c  2  2"
            ]
          },
          "metadata": {
            "tags": []
          },
          "execution_count": 2
        }
      ]
    },
    {
      "metadata": {
        "id": "hSYRKJ_TeYV7",
        "colab_type": "code",
        "colab": {
          "base_uri": "https://localhost:8080/",
          "height": 175
        },
        "outputId": "1ec955a9-ed5c-4940-d8e3-2f22c44bb4ee"
      },
      "cell_type": "code",
      "source": [
        "df2 = pd.DataFrame(\n",
        "              { 'A' : 1., # All one vlaue\n",
        "                'B' : pd.Timestamp('20130102'),   # date                   \n",
        "                'C ' :pd.Series(1,index=list(range(4)),dtype='float32'), # series\n",
        "                'D' : np.array([3] * 4,dtype='int32'), # array\n",
        "                'E' : pd.Categorical([\"test\",\"train\",\"test\",\"train\"]),\n",
        "                'F' : 'foo', \n",
        "                'G' : [1,2,3,4]  # list\n",
        "              })\n",
        "df2"
      ],
      "execution_count": 7,
      "outputs": [
        {
          "output_type": "execute_result",
          "data": {
            "text/html": [
              "<div>\n",
              "<style scoped>\n",
              "    .dataframe tbody tr th:only-of-type {\n",
              "        vertical-align: middle;\n",
              "    }\n",
              "\n",
              "    .dataframe tbody tr th {\n",
              "        vertical-align: top;\n",
              "    }\n",
              "\n",
              "    .dataframe thead th {\n",
              "        text-align: right;\n",
              "    }\n",
              "</style>\n",
              "<table border=\"1\" class=\"dataframe\">\n",
              "  <thead>\n",
              "    <tr style=\"text-align: right;\">\n",
              "      <th></th>\n",
              "      <th>A</th>\n",
              "      <th>B</th>\n",
              "      <th>C</th>\n",
              "      <th>D</th>\n",
              "      <th>E</th>\n",
              "      <th>F</th>\n",
              "      <th>G</th>\n",
              "    </tr>\n",
              "  </thead>\n",
              "  <tbody>\n",
              "    <tr>\n",
              "      <th>0</th>\n",
              "      <td>1.0</td>\n",
              "      <td>2013-01-02</td>\n",
              "      <td>1.0</td>\n",
              "      <td>3</td>\n",
              "      <td>test</td>\n",
              "      <td>foo</td>\n",
              "      <td>1</td>\n",
              "    </tr>\n",
              "    <tr>\n",
              "      <th>1</th>\n",
              "      <td>1.0</td>\n",
              "      <td>2013-01-02</td>\n",
              "      <td>1.0</td>\n",
              "      <td>3</td>\n",
              "      <td>train</td>\n",
              "      <td>foo</td>\n",
              "      <td>2</td>\n",
              "    </tr>\n",
              "    <tr>\n",
              "      <th>2</th>\n",
              "      <td>1.0</td>\n",
              "      <td>2013-01-02</td>\n",
              "      <td>1.0</td>\n",
              "      <td>3</td>\n",
              "      <td>test</td>\n",
              "      <td>foo</td>\n",
              "      <td>3</td>\n",
              "    </tr>\n",
              "    <tr>\n",
              "      <th>3</th>\n",
              "      <td>1.0</td>\n",
              "      <td>2013-01-02</td>\n",
              "      <td>1.0</td>\n",
              "      <td>3</td>\n",
              "      <td>train</td>\n",
              "      <td>foo</td>\n",
              "      <td>4</td>\n",
              "    </tr>\n",
              "  </tbody>\n",
              "</table>\n",
              "</div>"
            ],
            "text/plain": [
              "     A          B   C   D      E    F  G\n",
              "0  1.0 2013-01-02  1.0  3   test  foo  1\n",
              "1  1.0 2013-01-02  1.0  3  train  foo  2\n",
              "2  1.0 2013-01-02  1.0  3   test  foo  3\n",
              "3  1.0 2013-01-02  1.0  3  train  foo  4"
            ]
          },
          "metadata": {
            "tags": []
          },
          "execution_count": 7
        }
      ]
    },
    {
      "metadata": {
        "id": "sZNjkDCteb3X",
        "colab_type": "code",
        "colab": {
          "base_uri": "https://localhost:8080/",
          "height": 69
        },
        "outputId": "0dec15b6-c1c6-40a1-c3da-35ff92ff2a31"
      },
      "cell_type": "code",
      "source": [
        "# eg dates and data\n",
        "dates = pd.date_range('20130101', periods=6)\n",
        "dates"
      ],
      "execution_count": 12,
      "outputs": [
        {
          "output_type": "execute_result",
          "data": {
            "text/plain": [
              "DatetimeIndex(['2013-01-01', '2013-01-02', '2013-01-03', '2013-01-04',\n",
              "               '2013-01-05', '2013-01-06'],\n",
              "              dtype='datetime64[ns]', freq='D')"
            ]
          },
          "metadata": {
            "tags": []
          },
          "execution_count": 12
        }
      ]
    },
    {
      "metadata": {
        "id": "21pGlzxygmp_",
        "colab_type": "code",
        "colab": {
          "base_uri": "https://localhost:8080/",
          "height": 238
        },
        "outputId": "037b1b79-7bd1-4cbb-8307-995f0af33403"
      },
      "cell_type": "code",
      "source": [
        "df = pd.DataFrame(np.random.randn(6,4), index=dates, columns=list('ABCD'))\n",
        "df"
      ],
      "execution_count": 60,
      "outputs": [
        {
          "output_type": "execute_result",
          "data": {
            "text/html": [
              "<div>\n",
              "<style scoped>\n",
              "    .dataframe tbody tr th:only-of-type {\n",
              "        vertical-align: middle;\n",
              "    }\n",
              "\n",
              "    .dataframe tbody tr th {\n",
              "        vertical-align: top;\n",
              "    }\n",
              "\n",
              "    .dataframe thead th {\n",
              "        text-align: right;\n",
              "    }\n",
              "</style>\n",
              "<table border=\"1\" class=\"dataframe\">\n",
              "  <thead>\n",
              "    <tr style=\"text-align: right;\">\n",
              "      <th></th>\n",
              "      <th>A</th>\n",
              "      <th>B</th>\n",
              "      <th>C</th>\n",
              "      <th>D</th>\n",
              "    </tr>\n",
              "  </thead>\n",
              "  <tbody>\n",
              "    <tr>\n",
              "      <th>2013-01-01</th>\n",
              "      <td>-0.337425</td>\n",
              "      <td>0.419965</td>\n",
              "      <td>0.064828</td>\n",
              "      <td>0.065867</td>\n",
              "    </tr>\n",
              "    <tr>\n",
              "      <th>2013-01-02</th>\n",
              "      <td>0.715076</td>\n",
              "      <td>0.896451</td>\n",
              "      <td>0.093573</td>\n",
              "      <td>1.164690</td>\n",
              "    </tr>\n",
              "    <tr>\n",
              "      <th>2013-01-03</th>\n",
              "      <td>2.244118</td>\n",
              "      <td>1.075180</td>\n",
              "      <td>-0.458979</td>\n",
              "      <td>-0.642527</td>\n",
              "    </tr>\n",
              "    <tr>\n",
              "      <th>2013-01-04</th>\n",
              "      <td>1.139121</td>\n",
              "      <td>0.568490</td>\n",
              "      <td>0.136447</td>\n",
              "      <td>1.537521</td>\n",
              "    </tr>\n",
              "    <tr>\n",
              "      <th>2013-01-05</th>\n",
              "      <td>1.549626</td>\n",
              "      <td>0.549848</td>\n",
              "      <td>-0.936035</td>\n",
              "      <td>-0.419732</td>\n",
              "    </tr>\n",
              "    <tr>\n",
              "      <th>2013-01-06</th>\n",
              "      <td>-0.099543</td>\n",
              "      <td>0.731738</td>\n",
              "      <td>-0.648349</td>\n",
              "      <td>1.211823</td>\n",
              "    </tr>\n",
              "  </tbody>\n",
              "</table>\n",
              "</div>"
            ],
            "text/plain": [
              "                   A         B         C         D\n",
              "2013-01-01 -0.337425  0.419965  0.064828  0.065867\n",
              "2013-01-02  0.715076  0.896451  0.093573  1.164690\n",
              "2013-01-03  2.244118  1.075180 -0.458979 -0.642527\n",
              "2013-01-04  1.139121  0.568490  0.136447  1.537521\n",
              "2013-01-05  1.549626  0.549848 -0.936035 -0.419732\n",
              "2013-01-06 -0.099543  0.731738 -0.648349  1.211823"
            ]
          },
          "metadata": {
            "tags": []
          },
          "execution_count": 60
        }
      ]
    },
    {
      "metadata": {
        "id": "wz8l7Rk0g6Ut",
        "colab_type": "code",
        "colab": {}
      },
      "cell_type": "code",
      "source": [
        ""
      ],
      "execution_count": 0,
      "outputs": []
    },
    {
      "metadata": {
        "id": "P333W_x1jZfe",
        "colab_type": "text"
      },
      "cell_type": "markdown",
      "source": [
        "## Add to DataFrame"
      ]
    },
    {
      "metadata": {
        "id": "Gt0HLhYVJi7q",
        "colab_type": "code",
        "colab": {
          "base_uri": "https://localhost:8080/",
          "height": 112
        },
        "outputId": "cd7d3cfc-c6a7-4527-df58-dd221422862e"
      },
      "cell_type": "code",
      "source": [
        "df = pd.DataFrame({ 'a':[1,2], 'b':[1,2], 'c':[1,2],  })\n",
        "\n",
        "df['D'] = [10,11]\n",
        "df"
      ],
      "execution_count": 49,
      "outputs": [
        {
          "output_type": "execute_result",
          "data": {
            "text/html": [
              "<div>\n",
              "<style scoped>\n",
              "    .dataframe tbody tr th:only-of-type {\n",
              "        vertical-align: middle;\n",
              "    }\n",
              "\n",
              "    .dataframe tbody tr th {\n",
              "        vertical-align: top;\n",
              "    }\n",
              "\n",
              "    .dataframe thead th {\n",
              "        text-align: right;\n",
              "    }\n",
              "</style>\n",
              "<table border=\"1\" class=\"dataframe\">\n",
              "  <thead>\n",
              "    <tr style=\"text-align: right;\">\n",
              "      <th></th>\n",
              "      <th>a</th>\n",
              "      <th>b</th>\n",
              "      <th>c</th>\n",
              "      <th>D</th>\n",
              "    </tr>\n",
              "  </thead>\n",
              "  <tbody>\n",
              "    <tr>\n",
              "      <th>0</th>\n",
              "      <td>1</td>\n",
              "      <td>1</td>\n",
              "      <td>1</td>\n",
              "      <td>10</td>\n",
              "    </tr>\n",
              "    <tr>\n",
              "      <th>1</th>\n",
              "      <td>2</td>\n",
              "      <td>2</td>\n",
              "      <td>2</td>\n",
              "      <td>11</td>\n",
              "    </tr>\n",
              "  </tbody>\n",
              "</table>\n",
              "</div>"
            ],
            "text/plain": [
              "   a  b  c   D\n",
              "0  1  1  1  10\n",
              "1  2  2  2  11"
            ]
          },
          "metadata": {
            "tags": []
          },
          "execution_count": 49
        }
      ]
    },
    {
      "metadata": {
        "id": "cxlmNDtCPS-G",
        "colab_type": "text"
      },
      "cell_type": "markdown",
      "source": [
        "## Update data"
      ]
    },
    {
      "metadata": {
        "id": "TlH8eI8vPZMV",
        "colab_type": "code",
        "colab": {
          "base_uri": "https://localhost:8080/",
          "height": 139
        },
        "outputId": "8347f2ec-9d3b-4146-923b-6ef7eceb0a43"
      },
      "cell_type": "code",
      "source": [
        "s1 = pd.Series([1,2,3,4,5,6], index=pd.date_range('20130102', periods=6))\n",
        "s1"
      ],
      "execution_count": 76,
      "outputs": [
        {
          "output_type": "execute_result",
          "data": {
            "text/plain": [
              "2013-01-02    1\n",
              "2013-01-03    2\n",
              "2013-01-04    3\n",
              "2013-01-05    4\n",
              "2013-01-06    5\n",
              "2013-01-07    6\n",
              "Freq: D, dtype: int64"
            ]
          },
          "metadata": {
            "tags": []
          },
          "execution_count": 76
        }
      ]
    },
    {
      "metadata": {
        "id": "r5Gm43KGPpWy",
        "colab_type": "code",
        "colab": {
          "base_uri": "https://localhost:8080/",
          "height": 238
        },
        "outputId": "c7831885-dbc0-4bf6-fd69-a32e3893e9ce"
      },
      "cell_type": "code",
      "source": [
        "df['F'] = s1\n",
        "df"
      ],
      "execution_count": 77,
      "outputs": [
        {
          "output_type": "execute_result",
          "data": {
            "text/html": [
              "<div>\n",
              "<style scoped>\n",
              "    .dataframe tbody tr th:only-of-type {\n",
              "        vertical-align: middle;\n",
              "    }\n",
              "\n",
              "    .dataframe tbody tr th {\n",
              "        vertical-align: top;\n",
              "    }\n",
              "\n",
              "    .dataframe thead th {\n",
              "        text-align: right;\n",
              "    }\n",
              "</style>\n",
              "<table border=\"1\" class=\"dataframe\">\n",
              "  <thead>\n",
              "    <tr style=\"text-align: right;\">\n",
              "      <th></th>\n",
              "      <th>A</th>\n",
              "      <th>B</th>\n",
              "      <th>C</th>\n",
              "      <th>D</th>\n",
              "      <th>F</th>\n",
              "    </tr>\n",
              "  </thead>\n",
              "  <tbody>\n",
              "    <tr>\n",
              "      <th>2013-01-01</th>\n",
              "      <td>-0.337425</td>\n",
              "      <td>0.419965</td>\n",
              "      <td>0.064828</td>\n",
              "      <td>0.065867</td>\n",
              "      <td>NaN</td>\n",
              "    </tr>\n",
              "    <tr>\n",
              "      <th>2013-01-02</th>\n",
              "      <td>0.715076</td>\n",
              "      <td>0.896451</td>\n",
              "      <td>0.093573</td>\n",
              "      <td>1.164690</td>\n",
              "      <td>1.0</td>\n",
              "    </tr>\n",
              "    <tr>\n",
              "      <th>2013-01-03</th>\n",
              "      <td>2.244118</td>\n",
              "      <td>1.075180</td>\n",
              "      <td>-0.458979</td>\n",
              "      <td>-0.642527</td>\n",
              "      <td>2.0</td>\n",
              "    </tr>\n",
              "    <tr>\n",
              "      <th>2013-01-04</th>\n",
              "      <td>1.139121</td>\n",
              "      <td>0.568490</td>\n",
              "      <td>0.136447</td>\n",
              "      <td>1.537521</td>\n",
              "      <td>3.0</td>\n",
              "    </tr>\n",
              "    <tr>\n",
              "      <th>2013-01-05</th>\n",
              "      <td>1.549626</td>\n",
              "      <td>0.549848</td>\n",
              "      <td>-0.936035</td>\n",
              "      <td>-0.419732</td>\n",
              "      <td>4.0</td>\n",
              "    </tr>\n",
              "    <tr>\n",
              "      <th>2013-01-06</th>\n",
              "      <td>-0.099543</td>\n",
              "      <td>0.731738</td>\n",
              "      <td>-0.648349</td>\n",
              "      <td>1.211823</td>\n",
              "      <td>5.0</td>\n",
              "    </tr>\n",
              "  </tbody>\n",
              "</table>\n",
              "</div>"
            ],
            "text/plain": [
              "                   A         B         C         D    F\n",
              "2013-01-01 -0.337425  0.419965  0.064828  0.065867  NaN\n",
              "2013-01-02  0.715076  0.896451  0.093573  1.164690  1.0\n",
              "2013-01-03  2.244118  1.075180 -0.458979 -0.642527  2.0\n",
              "2013-01-04  1.139121  0.568490  0.136447  1.537521  3.0\n",
              "2013-01-05  1.549626  0.549848 -0.936035 -0.419732  4.0\n",
              "2013-01-06 -0.099543  0.731738 -0.648349  1.211823  5.0"
            ]
          },
          "metadata": {
            "tags": []
          },
          "execution_count": 77
        }
      ]
    },
    {
      "metadata": {
        "id": "9r1YvWzrQeAD",
        "colab_type": "code",
        "colab": {
          "base_uri": "https://localhost:8080/",
          "height": 238
        },
        "outputId": "b1ff8c29-a711-4507-9fa2-b00b4f5b6119"
      },
      "cell_type": "code",
      "source": [
        "# by value\n",
        "df.at[dates[0],'A'] = 0\n",
        "df"
      ],
      "execution_count": 78,
      "outputs": [
        {
          "output_type": "execute_result",
          "data": {
            "text/html": [
              "<div>\n",
              "<style scoped>\n",
              "    .dataframe tbody tr th:only-of-type {\n",
              "        vertical-align: middle;\n",
              "    }\n",
              "\n",
              "    .dataframe tbody tr th {\n",
              "        vertical-align: top;\n",
              "    }\n",
              "\n",
              "    .dataframe thead th {\n",
              "        text-align: right;\n",
              "    }\n",
              "</style>\n",
              "<table border=\"1\" class=\"dataframe\">\n",
              "  <thead>\n",
              "    <tr style=\"text-align: right;\">\n",
              "      <th></th>\n",
              "      <th>A</th>\n",
              "      <th>B</th>\n",
              "      <th>C</th>\n",
              "      <th>D</th>\n",
              "      <th>F</th>\n",
              "    </tr>\n",
              "  </thead>\n",
              "  <tbody>\n",
              "    <tr>\n",
              "      <th>2013-01-01</th>\n",
              "      <td>0.000000</td>\n",
              "      <td>0.419965</td>\n",
              "      <td>0.064828</td>\n",
              "      <td>0.065867</td>\n",
              "      <td>NaN</td>\n",
              "    </tr>\n",
              "    <tr>\n",
              "      <th>2013-01-02</th>\n",
              "      <td>0.715076</td>\n",
              "      <td>0.896451</td>\n",
              "      <td>0.093573</td>\n",
              "      <td>1.164690</td>\n",
              "      <td>1.0</td>\n",
              "    </tr>\n",
              "    <tr>\n",
              "      <th>2013-01-03</th>\n",
              "      <td>2.244118</td>\n",
              "      <td>1.075180</td>\n",
              "      <td>-0.458979</td>\n",
              "      <td>-0.642527</td>\n",
              "      <td>2.0</td>\n",
              "    </tr>\n",
              "    <tr>\n",
              "      <th>2013-01-04</th>\n",
              "      <td>1.139121</td>\n",
              "      <td>0.568490</td>\n",
              "      <td>0.136447</td>\n",
              "      <td>1.537521</td>\n",
              "      <td>3.0</td>\n",
              "    </tr>\n",
              "    <tr>\n",
              "      <th>2013-01-05</th>\n",
              "      <td>1.549626</td>\n",
              "      <td>0.549848</td>\n",
              "      <td>-0.936035</td>\n",
              "      <td>-0.419732</td>\n",
              "      <td>4.0</td>\n",
              "    </tr>\n",
              "    <tr>\n",
              "      <th>2013-01-06</th>\n",
              "      <td>-0.099543</td>\n",
              "      <td>0.731738</td>\n",
              "      <td>-0.648349</td>\n",
              "      <td>1.211823</td>\n",
              "      <td>5.0</td>\n",
              "    </tr>\n",
              "  </tbody>\n",
              "</table>\n",
              "</div>"
            ],
            "text/plain": [
              "                   A         B         C         D    F\n",
              "2013-01-01  0.000000  0.419965  0.064828  0.065867  NaN\n",
              "2013-01-02  0.715076  0.896451  0.093573  1.164690  1.0\n",
              "2013-01-03  2.244118  1.075180 -0.458979 -0.642527  2.0\n",
              "2013-01-04  1.139121  0.568490  0.136447  1.537521  3.0\n",
              "2013-01-05  1.549626  0.549848 -0.936035 -0.419732  4.0\n",
              "2013-01-06 -0.099543  0.731738 -0.648349  1.211823  5.0"
            ]
          },
          "metadata": {
            "tags": []
          },
          "execution_count": 78
        }
      ]
    },
    {
      "metadata": {
        "id": "AUaNBmTSQswB",
        "colab_type": "code",
        "colab": {
          "base_uri": "https://localhost:8080/",
          "height": 238
        },
        "outputId": "0fcc38f2-0ac2-42e8-d1d8-f01738bab877"
      },
      "cell_type": "code",
      "source": [
        "df.iat[0,1] = 0.1\n",
        "df"
      ],
      "execution_count": 79,
      "outputs": [
        {
          "output_type": "execute_result",
          "data": {
            "text/html": [
              "<div>\n",
              "<style scoped>\n",
              "    .dataframe tbody tr th:only-of-type {\n",
              "        vertical-align: middle;\n",
              "    }\n",
              "\n",
              "    .dataframe tbody tr th {\n",
              "        vertical-align: top;\n",
              "    }\n",
              "\n",
              "    .dataframe thead th {\n",
              "        text-align: right;\n",
              "    }\n",
              "</style>\n",
              "<table border=\"1\" class=\"dataframe\">\n",
              "  <thead>\n",
              "    <tr style=\"text-align: right;\">\n",
              "      <th></th>\n",
              "      <th>A</th>\n",
              "      <th>B</th>\n",
              "      <th>C</th>\n",
              "      <th>D</th>\n",
              "      <th>F</th>\n",
              "    </tr>\n",
              "  </thead>\n",
              "  <tbody>\n",
              "    <tr>\n",
              "      <th>2013-01-01</th>\n",
              "      <td>0.000000</td>\n",
              "      <td>0.100000</td>\n",
              "      <td>0.064828</td>\n",
              "      <td>0.065867</td>\n",
              "      <td>NaN</td>\n",
              "    </tr>\n",
              "    <tr>\n",
              "      <th>2013-01-02</th>\n",
              "      <td>0.715076</td>\n",
              "      <td>0.896451</td>\n",
              "      <td>0.093573</td>\n",
              "      <td>1.164690</td>\n",
              "      <td>1.0</td>\n",
              "    </tr>\n",
              "    <tr>\n",
              "      <th>2013-01-03</th>\n",
              "      <td>2.244118</td>\n",
              "      <td>1.075180</td>\n",
              "      <td>-0.458979</td>\n",
              "      <td>-0.642527</td>\n",
              "      <td>2.0</td>\n",
              "    </tr>\n",
              "    <tr>\n",
              "      <th>2013-01-04</th>\n",
              "      <td>1.139121</td>\n",
              "      <td>0.568490</td>\n",
              "      <td>0.136447</td>\n",
              "      <td>1.537521</td>\n",
              "      <td>3.0</td>\n",
              "    </tr>\n",
              "    <tr>\n",
              "      <th>2013-01-05</th>\n",
              "      <td>1.549626</td>\n",
              "      <td>0.549848</td>\n",
              "      <td>-0.936035</td>\n",
              "      <td>-0.419732</td>\n",
              "      <td>4.0</td>\n",
              "    </tr>\n",
              "    <tr>\n",
              "      <th>2013-01-06</th>\n",
              "      <td>-0.099543</td>\n",
              "      <td>0.731738</td>\n",
              "      <td>-0.648349</td>\n",
              "      <td>1.211823</td>\n",
              "      <td>5.0</td>\n",
              "    </tr>\n",
              "  </tbody>\n",
              "</table>\n",
              "</div>"
            ],
            "text/plain": [
              "                   A         B         C         D    F\n",
              "2013-01-01  0.000000  0.100000  0.064828  0.065867  NaN\n",
              "2013-01-02  0.715076  0.896451  0.093573  1.164690  1.0\n",
              "2013-01-03  2.244118  1.075180 -0.458979 -0.642527  2.0\n",
              "2013-01-04  1.139121  0.568490  0.136447  1.537521  3.0\n",
              "2013-01-05  1.549626  0.549848 -0.936035 -0.419732  4.0\n",
              "2013-01-06 -0.099543  0.731738 -0.648349  1.211823  5.0"
            ]
          },
          "metadata": {
            "tags": []
          },
          "execution_count": 79
        }
      ]
    },
    {
      "metadata": {
        "id": "kRr7hoF_RBKr",
        "colab_type": "code",
        "colab": {
          "base_uri": "https://localhost:8080/",
          "height": 238
        },
        "outputId": "6866e826-e05c-41eb-bd71-0d63c152dc94"
      },
      "cell_type": "code",
      "source": [
        "# whole column, update with numpy array\n",
        "df.loc[:,'D'] = np.array([5] * len(df))\n",
        "df"
      ],
      "execution_count": 81,
      "outputs": [
        {
          "output_type": "execute_result",
          "data": {
            "text/html": [
              "<div>\n",
              "<style scoped>\n",
              "    .dataframe tbody tr th:only-of-type {\n",
              "        vertical-align: middle;\n",
              "    }\n",
              "\n",
              "    .dataframe tbody tr th {\n",
              "        vertical-align: top;\n",
              "    }\n",
              "\n",
              "    .dataframe thead th {\n",
              "        text-align: right;\n",
              "    }\n",
              "</style>\n",
              "<table border=\"1\" class=\"dataframe\">\n",
              "  <thead>\n",
              "    <tr style=\"text-align: right;\">\n",
              "      <th></th>\n",
              "      <th>A</th>\n",
              "      <th>B</th>\n",
              "      <th>C</th>\n",
              "      <th>D</th>\n",
              "      <th>F</th>\n",
              "    </tr>\n",
              "  </thead>\n",
              "  <tbody>\n",
              "    <tr>\n",
              "      <th>2013-01-01</th>\n",
              "      <td>0.000000</td>\n",
              "      <td>0.100000</td>\n",
              "      <td>0.064828</td>\n",
              "      <td>5</td>\n",
              "      <td>NaN</td>\n",
              "    </tr>\n",
              "    <tr>\n",
              "      <th>2013-01-02</th>\n",
              "      <td>0.715076</td>\n",
              "      <td>0.896451</td>\n",
              "      <td>0.093573</td>\n",
              "      <td>5</td>\n",
              "      <td>1.0</td>\n",
              "    </tr>\n",
              "    <tr>\n",
              "      <th>2013-01-03</th>\n",
              "      <td>2.244118</td>\n",
              "      <td>1.075180</td>\n",
              "      <td>-0.458979</td>\n",
              "      <td>5</td>\n",
              "      <td>2.0</td>\n",
              "    </tr>\n",
              "    <tr>\n",
              "      <th>2013-01-04</th>\n",
              "      <td>1.139121</td>\n",
              "      <td>0.568490</td>\n",
              "      <td>0.136447</td>\n",
              "      <td>5</td>\n",
              "      <td>3.0</td>\n",
              "    </tr>\n",
              "    <tr>\n",
              "      <th>2013-01-05</th>\n",
              "      <td>1.549626</td>\n",
              "      <td>0.549848</td>\n",
              "      <td>-0.936035</td>\n",
              "      <td>5</td>\n",
              "      <td>4.0</td>\n",
              "    </tr>\n",
              "    <tr>\n",
              "      <th>2013-01-06</th>\n",
              "      <td>-0.099543</td>\n",
              "      <td>0.731738</td>\n",
              "      <td>-0.648349</td>\n",
              "      <td>5</td>\n",
              "      <td>5.0</td>\n",
              "    </tr>\n",
              "  </tbody>\n",
              "</table>\n",
              "</div>"
            ],
            "text/plain": [
              "                   A         B         C  D    F\n",
              "2013-01-01  0.000000  0.100000  0.064828  5  NaN\n",
              "2013-01-02  0.715076  0.896451  0.093573  5  1.0\n",
              "2013-01-03  2.244118  1.075180 -0.458979  5  2.0\n",
              "2013-01-04  1.139121  0.568490  0.136447  5  3.0\n",
              "2013-01-05  1.549626  0.549848 -0.936035  5  4.0\n",
              "2013-01-06 -0.099543  0.731738 -0.648349  5  5.0"
            ]
          },
          "metadata": {
            "tags": []
          },
          "execution_count": 81
        }
      ]
    },
    {
      "metadata": {
        "id": "sT0L8tE6RaLq",
        "colab_type": "code",
        "colab": {
          "base_uri": "https://localhost:8080/",
          "height": 238
        },
        "outputId": "a6b9af20-22ee-404d-8dc9-6ed42a51f645"
      },
      "cell_type": "code",
      "source": [
        "# where on whole df\n",
        "df2 = df.copy()\n",
        "df2[df2 < 0] = -df2\n",
        "df2"
      ],
      "execution_count": 82,
      "outputs": [
        {
          "output_type": "execute_result",
          "data": {
            "text/html": [
              "<div>\n",
              "<style scoped>\n",
              "    .dataframe tbody tr th:only-of-type {\n",
              "        vertical-align: middle;\n",
              "    }\n",
              "\n",
              "    .dataframe tbody tr th {\n",
              "        vertical-align: top;\n",
              "    }\n",
              "\n",
              "    .dataframe thead th {\n",
              "        text-align: right;\n",
              "    }\n",
              "</style>\n",
              "<table border=\"1\" class=\"dataframe\">\n",
              "  <thead>\n",
              "    <tr style=\"text-align: right;\">\n",
              "      <th></th>\n",
              "      <th>A</th>\n",
              "      <th>B</th>\n",
              "      <th>C</th>\n",
              "      <th>D</th>\n",
              "      <th>F</th>\n",
              "    </tr>\n",
              "  </thead>\n",
              "  <tbody>\n",
              "    <tr>\n",
              "      <th>2013-01-01</th>\n",
              "      <td>0.000000</td>\n",
              "      <td>0.100000</td>\n",
              "      <td>0.064828</td>\n",
              "      <td>5</td>\n",
              "      <td>NaN</td>\n",
              "    </tr>\n",
              "    <tr>\n",
              "      <th>2013-01-02</th>\n",
              "      <td>0.715076</td>\n",
              "      <td>0.896451</td>\n",
              "      <td>0.093573</td>\n",
              "      <td>5</td>\n",
              "      <td>1.0</td>\n",
              "    </tr>\n",
              "    <tr>\n",
              "      <th>2013-01-03</th>\n",
              "      <td>2.244118</td>\n",
              "      <td>1.075180</td>\n",
              "      <td>0.458979</td>\n",
              "      <td>5</td>\n",
              "      <td>2.0</td>\n",
              "    </tr>\n",
              "    <tr>\n",
              "      <th>2013-01-04</th>\n",
              "      <td>1.139121</td>\n",
              "      <td>0.568490</td>\n",
              "      <td>0.136447</td>\n",
              "      <td>5</td>\n",
              "      <td>3.0</td>\n",
              "    </tr>\n",
              "    <tr>\n",
              "      <th>2013-01-05</th>\n",
              "      <td>1.549626</td>\n",
              "      <td>0.549848</td>\n",
              "      <td>0.936035</td>\n",
              "      <td>5</td>\n",
              "      <td>4.0</td>\n",
              "    </tr>\n",
              "    <tr>\n",
              "      <th>2013-01-06</th>\n",
              "      <td>0.099543</td>\n",
              "      <td>0.731738</td>\n",
              "      <td>0.648349</td>\n",
              "      <td>5</td>\n",
              "      <td>5.0</td>\n",
              "    </tr>\n",
              "  </tbody>\n",
              "</table>\n",
              "</div>"
            ],
            "text/plain": [
              "                   A         B         C  D    F\n",
              "2013-01-01  0.000000  0.100000  0.064828  5  NaN\n",
              "2013-01-02  0.715076  0.896451  0.093573  5  1.0\n",
              "2013-01-03  2.244118  1.075180  0.458979  5  2.0\n",
              "2013-01-04  1.139121  0.568490  0.136447  5  3.0\n",
              "2013-01-05  1.549626  0.549848  0.936035  5  4.0\n",
              "2013-01-06  0.099543  0.731738  0.648349  5  5.0"
            ]
          },
          "metadata": {
            "tags": []
          },
          "execution_count": 82
        }
      ]
    },
    {
      "metadata": {
        "id": "pCUzQrL_jf27",
        "colab_type": "text"
      },
      "cell_type": "markdown",
      "source": [
        "## Modify DataFrame"
      ]
    },
    {
      "metadata": {
        "id": "vK4IyGFyQ_lR",
        "colab_type": "code",
        "colab": {}
      },
      "cell_type": "code",
      "source": [
        ""
      ],
      "execution_count": 0,
      "outputs": []
    },
    {
      "metadata": {
        "id": "ZU6-075XllCI",
        "colab_type": "code",
        "colab": {
          "base_uri": "https://localhost:8080/",
          "height": 238
        },
        "outputId": "d33a9a42-c621-4ea8-9519-046a054f1009"
      },
      "cell_type": "code",
      "source": [
        "#sort by axis\n",
        "df.sort_index(axis=1, ascending=False)"
      ],
      "execution_count": 28,
      "outputs": [
        {
          "output_type": "execute_result",
          "data": {
            "text/html": [
              "<div>\n",
              "<style scoped>\n",
              "    .dataframe tbody tr th:only-of-type {\n",
              "        vertical-align: middle;\n",
              "    }\n",
              "\n",
              "    .dataframe tbody tr th {\n",
              "        vertical-align: top;\n",
              "    }\n",
              "\n",
              "    .dataframe thead th {\n",
              "        text-align: right;\n",
              "    }\n",
              "</style>\n",
              "<table border=\"1\" class=\"dataframe\">\n",
              "  <thead>\n",
              "    <tr style=\"text-align: right;\">\n",
              "      <th></th>\n",
              "      <th>D</th>\n",
              "      <th>C</th>\n",
              "      <th>B</th>\n",
              "      <th>A</th>\n",
              "    </tr>\n",
              "  </thead>\n",
              "  <tbody>\n",
              "    <tr>\n",
              "      <th>2013-01-01</th>\n",
              "      <td>-1.125366</td>\n",
              "      <td>-0.250743</td>\n",
              "      <td>-0.727355</td>\n",
              "      <td>-0.614316</td>\n",
              "    </tr>\n",
              "    <tr>\n",
              "      <th>2013-01-02</th>\n",
              "      <td>1.273794</td>\n",
              "      <td>-0.449667</td>\n",
              "      <td>-0.488096</td>\n",
              "      <td>0.330320</td>\n",
              "    </tr>\n",
              "    <tr>\n",
              "      <th>2013-01-03</th>\n",
              "      <td>-0.144976</td>\n",
              "      <td>0.277706</td>\n",
              "      <td>0.079873</td>\n",
              "      <td>-1.173828</td>\n",
              "    </tr>\n",
              "    <tr>\n",
              "      <th>2013-01-04</th>\n",
              "      <td>-1.203602</td>\n",
              "      <td>0.383898</td>\n",
              "      <td>1.510191</td>\n",
              "      <td>-0.220848</td>\n",
              "    </tr>\n",
              "    <tr>\n",
              "      <th>2013-01-05</th>\n",
              "      <td>-0.308972</td>\n",
              "      <td>-0.126518</td>\n",
              "      <td>-1.127420</td>\n",
              "      <td>0.657156</td>\n",
              "    </tr>\n",
              "    <tr>\n",
              "      <th>2013-01-06</th>\n",
              "      <td>0.104411</td>\n",
              "      <td>1.232420</td>\n",
              "      <td>-0.625490</td>\n",
              "      <td>-1.850150</td>\n",
              "    </tr>\n",
              "  </tbody>\n",
              "</table>\n",
              "</div>"
            ],
            "text/plain": [
              "                   D         C         B         A\n",
              "2013-01-01 -1.125366 -0.250743 -0.727355 -0.614316\n",
              "2013-01-02  1.273794 -0.449667 -0.488096  0.330320\n",
              "2013-01-03 -0.144976  0.277706  0.079873 -1.173828\n",
              "2013-01-04 -1.203602  0.383898  1.510191 -0.220848\n",
              "2013-01-05 -0.308972 -0.126518 -1.127420  0.657156\n",
              "2013-01-06  0.104411  1.232420 -0.625490 -1.850150"
            ]
          },
          "metadata": {
            "tags": []
          },
          "execution_count": 28
        }
      ]
    },
    {
      "metadata": {
        "id": "_qm01zgLl0f8",
        "colab_type": "code",
        "colab": {
          "base_uri": "https://localhost:8080/",
          "height": 238
        },
        "outputId": "5736cda7-ea52-43c0-a19e-5af0ecc7a689"
      },
      "cell_type": "code",
      "source": [
        "# sort by data\n",
        "df.sort_values(by='B')"
      ],
      "execution_count": 29,
      "outputs": [
        {
          "output_type": "execute_result",
          "data": {
            "text/html": [
              "<div>\n",
              "<style scoped>\n",
              "    .dataframe tbody tr th:only-of-type {\n",
              "        vertical-align: middle;\n",
              "    }\n",
              "\n",
              "    .dataframe tbody tr th {\n",
              "        vertical-align: top;\n",
              "    }\n",
              "\n",
              "    .dataframe thead th {\n",
              "        text-align: right;\n",
              "    }\n",
              "</style>\n",
              "<table border=\"1\" class=\"dataframe\">\n",
              "  <thead>\n",
              "    <tr style=\"text-align: right;\">\n",
              "      <th></th>\n",
              "      <th>A</th>\n",
              "      <th>B</th>\n",
              "      <th>C</th>\n",
              "      <th>D</th>\n",
              "    </tr>\n",
              "  </thead>\n",
              "  <tbody>\n",
              "    <tr>\n",
              "      <th>2013-01-05</th>\n",
              "      <td>0.657156</td>\n",
              "      <td>-1.127420</td>\n",
              "      <td>-0.126518</td>\n",
              "      <td>-0.308972</td>\n",
              "    </tr>\n",
              "    <tr>\n",
              "      <th>2013-01-01</th>\n",
              "      <td>-0.614316</td>\n",
              "      <td>-0.727355</td>\n",
              "      <td>-0.250743</td>\n",
              "      <td>-1.125366</td>\n",
              "    </tr>\n",
              "    <tr>\n",
              "      <th>2013-01-06</th>\n",
              "      <td>-1.850150</td>\n",
              "      <td>-0.625490</td>\n",
              "      <td>1.232420</td>\n",
              "      <td>0.104411</td>\n",
              "    </tr>\n",
              "    <tr>\n",
              "      <th>2013-01-02</th>\n",
              "      <td>0.330320</td>\n",
              "      <td>-0.488096</td>\n",
              "      <td>-0.449667</td>\n",
              "      <td>1.273794</td>\n",
              "    </tr>\n",
              "    <tr>\n",
              "      <th>2013-01-03</th>\n",
              "      <td>-1.173828</td>\n",
              "      <td>0.079873</td>\n",
              "      <td>0.277706</td>\n",
              "      <td>-0.144976</td>\n",
              "    </tr>\n",
              "    <tr>\n",
              "      <th>2013-01-04</th>\n",
              "      <td>-0.220848</td>\n",
              "      <td>1.510191</td>\n",
              "      <td>0.383898</td>\n",
              "      <td>-1.203602</td>\n",
              "    </tr>\n",
              "  </tbody>\n",
              "</table>\n",
              "</div>"
            ],
            "text/plain": [
              "                   A         B         C         D\n",
              "2013-01-05  0.657156 -1.127420 -0.126518 -0.308972\n",
              "2013-01-01 -0.614316 -0.727355 -0.250743 -1.125366\n",
              "2013-01-06 -1.850150 -0.625490  1.232420  0.104411\n",
              "2013-01-02  0.330320 -0.488096 -0.449667  1.273794\n",
              "2013-01-03 -1.173828  0.079873  0.277706 -0.144976\n",
              "2013-01-04 -0.220848  1.510191  0.383898 -1.203602"
            ]
          },
          "metadata": {
            "tags": []
          },
          "execution_count": 29
        }
      ]
    },
    {
      "metadata": {
        "id": "TNyyEHhLjmlZ",
        "colab_type": "text"
      },
      "cell_type": "markdown",
      "source": [
        "## Delete from DataFrame"
      ]
    },
    {
      "metadata": {
        "id": "PPbjvOp0ju_1",
        "colab_type": "text"
      },
      "cell_type": "markdown",
      "source": [
        "## Reshape DataFrame"
      ]
    },
    {
      "metadata": {
        "id": "bVIBfzN5jz7Y",
        "colab_type": "text"
      },
      "cell_type": "markdown",
      "source": [
        "## Select from DataFrame"
      ]
    },
    {
      "metadata": {
        "id": "hnZRs_RSj3YH",
        "colab_type": "code",
        "colab": {
          "base_uri": "https://localhost:8080/",
          "height": 139
        },
        "outputId": "29270083-82da-4a82-cf4b-4aaa16cad3b1"
      },
      "cell_type": "code",
      "source": [
        "df['A']"
      ],
      "execution_count": 30,
      "outputs": [
        {
          "output_type": "execute_result",
          "data": {
            "text/plain": [
              "2013-01-01   -0.614316\n",
              "2013-01-02    0.330320\n",
              "2013-01-03   -1.173828\n",
              "2013-01-04   -0.220848\n",
              "2013-01-05    0.657156\n",
              "2013-01-06   -1.850150\n",
              "Freq: D, Name: A, dtype: float64"
            ]
          },
          "metadata": {
            "tags": []
          },
          "execution_count": 30
        }
      ]
    },
    {
      "metadata": {
        "id": "ZIhiS4M6jd3o",
        "colab_type": "code",
        "colab": {
          "base_uri": "https://localhost:8080/",
          "height": 143
        },
        "outputId": "90fe19a5-176b-481b-d549-3743def252e8"
      },
      "cell_type": "code",
      "source": [
        "# by row number\n",
        "df[0:3]"
      ],
      "execution_count": 32,
      "outputs": [
        {
          "output_type": "execute_result",
          "data": {
            "text/html": [
              "<div>\n",
              "<style scoped>\n",
              "    .dataframe tbody tr th:only-of-type {\n",
              "        vertical-align: middle;\n",
              "    }\n",
              "\n",
              "    .dataframe tbody tr th {\n",
              "        vertical-align: top;\n",
              "    }\n",
              "\n",
              "    .dataframe thead th {\n",
              "        text-align: right;\n",
              "    }\n",
              "</style>\n",
              "<table border=\"1\" class=\"dataframe\">\n",
              "  <thead>\n",
              "    <tr style=\"text-align: right;\">\n",
              "      <th></th>\n",
              "      <th>A</th>\n",
              "      <th>B</th>\n",
              "      <th>C</th>\n",
              "      <th>D</th>\n",
              "    </tr>\n",
              "  </thead>\n",
              "  <tbody>\n",
              "    <tr>\n",
              "      <th>2013-01-01</th>\n",
              "      <td>-0.614316</td>\n",
              "      <td>-0.727355</td>\n",
              "      <td>-0.250743</td>\n",
              "      <td>-1.125366</td>\n",
              "    </tr>\n",
              "    <tr>\n",
              "      <th>2013-01-02</th>\n",
              "      <td>0.330320</td>\n",
              "      <td>-0.488096</td>\n",
              "      <td>-0.449667</td>\n",
              "      <td>1.273794</td>\n",
              "    </tr>\n",
              "    <tr>\n",
              "      <th>2013-01-03</th>\n",
              "      <td>-1.173828</td>\n",
              "      <td>0.079873</td>\n",
              "      <td>0.277706</td>\n",
              "      <td>-0.144976</td>\n",
              "    </tr>\n",
              "  </tbody>\n",
              "</table>\n",
              "</div>"
            ],
            "text/plain": [
              "                   A         B         C         D\n",
              "2013-01-01 -0.614316 -0.727355 -0.250743 -1.125366\n",
              "2013-01-02  0.330320 -0.488096 -0.449667  1.273794\n",
              "2013-01-03 -1.173828  0.079873  0.277706 -0.144976"
            ]
          },
          "metadata": {
            "tags": []
          },
          "execution_count": 32
        }
      ]
    },
    {
      "metadata": {
        "id": "q7oQF1lZmeel",
        "colab_type": "code",
        "colab": {
          "base_uri": "https://localhost:8080/",
          "height": 104
        },
        "outputId": "7af93b3f-a051-4084-cc1f-67afb90beac8"
      },
      "cell_type": "code",
      "source": [
        "# select by locationn, label (index number)\n",
        "df.loc[dates[0]]"
      ],
      "execution_count": 34,
      "outputs": [
        {
          "output_type": "execute_result",
          "data": {
            "text/plain": [
              "A   -0.614316\n",
              "B   -0.727355\n",
              "C   -0.250743\n",
              "D   -1.125366\n",
              "Name: 2013-01-01 00:00:00, dtype: float64"
            ]
          },
          "metadata": {
            "tags": []
          },
          "execution_count": 34
        }
      ]
    },
    {
      "metadata": {
        "id": "dwFYjNOjmxaG",
        "colab_type": "code",
        "colab": {
          "base_uri": "https://localhost:8080/",
          "height": 143
        },
        "outputId": "939c13a1-fb09-4b4f-82bd-7149c5d9565e"
      },
      "cell_type": "code",
      "source": [
        "# select by location, index and columns\n",
        "df.loc['20130102':'20130104',['A','B']]"
      ],
      "execution_count": 36,
      "outputs": [
        {
          "output_type": "execute_result",
          "data": {
            "text/html": [
              "<div>\n",
              "<style scoped>\n",
              "    .dataframe tbody tr th:only-of-type {\n",
              "        vertical-align: middle;\n",
              "    }\n",
              "\n",
              "    .dataframe tbody tr th {\n",
              "        vertical-align: top;\n",
              "    }\n",
              "\n",
              "    .dataframe thead th {\n",
              "        text-align: right;\n",
              "    }\n",
              "</style>\n",
              "<table border=\"1\" class=\"dataframe\">\n",
              "  <thead>\n",
              "    <tr style=\"text-align: right;\">\n",
              "      <th></th>\n",
              "      <th>A</th>\n",
              "      <th>B</th>\n",
              "    </tr>\n",
              "  </thead>\n",
              "  <tbody>\n",
              "    <tr>\n",
              "      <th>2013-01-02</th>\n",
              "      <td>0.330320</td>\n",
              "      <td>-0.488096</td>\n",
              "    </tr>\n",
              "    <tr>\n",
              "      <th>2013-01-03</th>\n",
              "      <td>-1.173828</td>\n",
              "      <td>0.079873</td>\n",
              "    </tr>\n",
              "    <tr>\n",
              "      <th>2013-01-04</th>\n",
              "      <td>-0.220848</td>\n",
              "      <td>1.510191</td>\n",
              "    </tr>\n",
              "  </tbody>\n",
              "</table>\n",
              "</div>"
            ],
            "text/plain": [
              "                   A         B\n",
              "2013-01-02  0.330320 -0.488096\n",
              "2013-01-03 -1.173828  0.079873\n",
              "2013-01-04 -0.220848  1.510191"
            ]
          },
          "metadata": {
            "tags": []
          },
          "execution_count": 36
        }
      ]
    },
    {
      "metadata": {
        "id": "swGiy6hLFQcc",
        "colab_type": "code",
        "colab": {
          "base_uri": "https://localhost:8080/",
          "height": 112
        },
        "outputId": "7309e8ac-89a4-4262-fd85-5080bff7b03f"
      },
      "cell_type": "code",
      "source": [
        "# select by location number ( index, columns)\n",
        "df.iloc[3:5,0:2]"
      ],
      "execution_count": 37,
      "outputs": [
        {
          "output_type": "execute_result",
          "data": {
            "text/html": [
              "<div>\n",
              "<style scoped>\n",
              "    .dataframe tbody tr th:only-of-type {\n",
              "        vertical-align: middle;\n",
              "    }\n",
              "\n",
              "    .dataframe tbody tr th {\n",
              "        vertical-align: top;\n",
              "    }\n",
              "\n",
              "    .dataframe thead th {\n",
              "        text-align: right;\n",
              "    }\n",
              "</style>\n",
              "<table border=\"1\" class=\"dataframe\">\n",
              "  <thead>\n",
              "    <tr style=\"text-align: right;\">\n",
              "      <th></th>\n",
              "      <th>A</th>\n",
              "      <th>B</th>\n",
              "    </tr>\n",
              "  </thead>\n",
              "  <tbody>\n",
              "    <tr>\n",
              "      <th>2013-01-04</th>\n",
              "      <td>-0.220848</td>\n",
              "      <td>1.510191</td>\n",
              "    </tr>\n",
              "    <tr>\n",
              "      <th>2013-01-05</th>\n",
              "      <td>0.657156</td>\n",
              "      <td>-1.127420</td>\n",
              "    </tr>\n",
              "  </tbody>\n",
              "</table>\n",
              "</div>"
            ],
            "text/plain": [
              "                   A         B\n",
              "2013-01-04 -0.220848  1.510191\n",
              "2013-01-05  0.657156 -1.127420"
            ]
          },
          "metadata": {
            "tags": []
          },
          "execution_count": 37
        }
      ]
    },
    {
      "metadata": {
        "id": "5CiCM6vbHEMD",
        "colab_type": "code",
        "colab": {
          "base_uri": "https://localhost:8080/",
          "height": 143
        },
        "outputId": "3b6c49c2-6c7a-4ae4-f449-f864ffef8a13"
      },
      "cell_type": "code",
      "source": [
        "# select specific location by number\n",
        "df.iloc[[1,2,4],[0,2]]"
      ],
      "execution_count": 38,
      "outputs": [
        {
          "output_type": "execute_result",
          "data": {
            "text/html": [
              "<div>\n",
              "<style scoped>\n",
              "    .dataframe tbody tr th:only-of-type {\n",
              "        vertical-align: middle;\n",
              "    }\n",
              "\n",
              "    .dataframe tbody tr th {\n",
              "        vertical-align: top;\n",
              "    }\n",
              "\n",
              "    .dataframe thead th {\n",
              "        text-align: right;\n",
              "    }\n",
              "</style>\n",
              "<table border=\"1\" class=\"dataframe\">\n",
              "  <thead>\n",
              "    <tr style=\"text-align: right;\">\n",
              "      <th></th>\n",
              "      <th>A</th>\n",
              "      <th>C</th>\n",
              "    </tr>\n",
              "  </thead>\n",
              "  <tbody>\n",
              "    <tr>\n",
              "      <th>2013-01-02</th>\n",
              "      <td>0.330320</td>\n",
              "      <td>-0.449667</td>\n",
              "    </tr>\n",
              "    <tr>\n",
              "      <th>2013-01-03</th>\n",
              "      <td>-1.173828</td>\n",
              "      <td>0.277706</td>\n",
              "    </tr>\n",
              "    <tr>\n",
              "      <th>2013-01-05</th>\n",
              "      <td>0.657156</td>\n",
              "      <td>-0.126518</td>\n",
              "    </tr>\n",
              "  </tbody>\n",
              "</table>\n",
              "</div>"
            ],
            "text/plain": [
              "                   A         C\n",
              "2013-01-02  0.330320 -0.449667\n",
              "2013-01-03 -1.173828  0.277706\n",
              "2013-01-05  0.657156 -0.126518"
            ]
          },
          "metadata": {
            "tags": []
          },
          "execution_count": 38
        }
      ]
    },
    {
      "metadata": {
        "id": "ovKoaa0PHa0-",
        "colab_type": "code",
        "colab": {
          "base_uri": "https://localhost:8080/",
          "height": 112
        },
        "outputId": "9f910b13-c132-4317-ef2c-4427c5a472d9"
      },
      "cell_type": "code",
      "source": [
        "# select a whole row \n",
        "df.iloc[1:3,:]"
      ],
      "execution_count": 39,
      "outputs": [
        {
          "output_type": "execute_result",
          "data": {
            "text/html": [
              "<div>\n",
              "<style scoped>\n",
              "    .dataframe tbody tr th:only-of-type {\n",
              "        vertical-align: middle;\n",
              "    }\n",
              "\n",
              "    .dataframe tbody tr th {\n",
              "        vertical-align: top;\n",
              "    }\n",
              "\n",
              "    .dataframe thead th {\n",
              "        text-align: right;\n",
              "    }\n",
              "</style>\n",
              "<table border=\"1\" class=\"dataframe\">\n",
              "  <thead>\n",
              "    <tr style=\"text-align: right;\">\n",
              "      <th></th>\n",
              "      <th>A</th>\n",
              "      <th>B</th>\n",
              "      <th>C</th>\n",
              "      <th>D</th>\n",
              "    </tr>\n",
              "  </thead>\n",
              "  <tbody>\n",
              "    <tr>\n",
              "      <th>2013-01-02</th>\n",
              "      <td>0.330320</td>\n",
              "      <td>-0.488096</td>\n",
              "      <td>-0.449667</td>\n",
              "      <td>1.273794</td>\n",
              "    </tr>\n",
              "    <tr>\n",
              "      <th>2013-01-03</th>\n",
              "      <td>-1.173828</td>\n",
              "      <td>0.079873</td>\n",
              "      <td>0.277706</td>\n",
              "      <td>-0.144976</td>\n",
              "    </tr>\n",
              "  </tbody>\n",
              "</table>\n",
              "</div>"
            ],
            "text/plain": [
              "                   A         B         C         D\n",
              "2013-01-02  0.330320 -0.488096 -0.449667  1.273794\n",
              "2013-01-03 -1.173828  0.079873  0.277706 -0.144976"
            ]
          },
          "metadata": {
            "tags": []
          },
          "execution_count": 39
        }
      ]
    },
    {
      "metadata": {
        "id": "Om9aBnsgHr0q",
        "colab_type": "code",
        "colab": {
          "base_uri": "https://localhost:8080/",
          "height": 238
        },
        "outputId": "4f5af97f-caa4-4a80-de73-b3b8db822fad"
      },
      "cell_type": "code",
      "source": [
        "# select a whole column\n",
        "df.iloc[:,:2:3]"
      ],
      "execution_count": 41,
      "outputs": [
        {
          "output_type": "execute_result",
          "data": {
            "text/html": [
              "<div>\n",
              "<style scoped>\n",
              "    .dataframe tbody tr th:only-of-type {\n",
              "        vertical-align: middle;\n",
              "    }\n",
              "\n",
              "    .dataframe tbody tr th {\n",
              "        vertical-align: top;\n",
              "    }\n",
              "\n",
              "    .dataframe thead th {\n",
              "        text-align: right;\n",
              "    }\n",
              "</style>\n",
              "<table border=\"1\" class=\"dataframe\">\n",
              "  <thead>\n",
              "    <tr style=\"text-align: right;\">\n",
              "      <th></th>\n",
              "      <th>A</th>\n",
              "    </tr>\n",
              "  </thead>\n",
              "  <tbody>\n",
              "    <tr>\n",
              "      <th>2013-01-01</th>\n",
              "      <td>-0.614316</td>\n",
              "    </tr>\n",
              "    <tr>\n",
              "      <th>2013-01-02</th>\n",
              "      <td>0.330320</td>\n",
              "    </tr>\n",
              "    <tr>\n",
              "      <th>2013-01-03</th>\n",
              "      <td>-1.173828</td>\n",
              "    </tr>\n",
              "    <tr>\n",
              "      <th>2013-01-04</th>\n",
              "      <td>-0.220848</td>\n",
              "    </tr>\n",
              "    <tr>\n",
              "      <th>2013-01-05</th>\n",
              "      <td>0.657156</td>\n",
              "    </tr>\n",
              "    <tr>\n",
              "      <th>2013-01-06</th>\n",
              "      <td>-1.850150</td>\n",
              "    </tr>\n",
              "  </tbody>\n",
              "</table>\n",
              "</div>"
            ],
            "text/plain": [
              "                   A\n",
              "2013-01-01 -0.614316\n",
              "2013-01-02  0.330320\n",
              "2013-01-03 -1.173828\n",
              "2013-01-04 -0.220848\n",
              "2013-01-05  0.657156\n",
              "2013-01-06 -1.850150"
            ]
          },
          "metadata": {
            "tags": []
          },
          "execution_count": 41
        }
      ]
    },
    {
      "metadata": {
        "id": "AUx9SMViHzBC",
        "colab_type": "code",
        "colab": {
          "base_uri": "https://localhost:8080/",
          "height": 34
        },
        "outputId": "bc399305-8aae-4042-ec3a-88d1b8b8a584"
      },
      "cell_type": "code",
      "source": [
        "# single value\n",
        " df.iloc[1,1]  # or faster df.iat[1,1]"
      ],
      "execution_count": 42,
      "outputs": [
        {
          "output_type": "execute_result",
          "data": {
            "text/plain": [
              "-0.48809592032947724"
            ]
          },
          "metadata": {
            "tags": []
          },
          "execution_count": 42
        }
      ]
    },
    {
      "metadata": {
        "id": "Q94vkKfZIMcr",
        "colab_type": "code",
        "colab": {
          "base_uri": "https://localhost:8080/",
          "height": 112
        },
        "outputId": "b940bd5b-190d-46b0-9443-05fdd1b8caeb"
      },
      "cell_type": "code",
      "source": [
        "# select where (select row where value ..)\n",
        "df[df.A > 0]"
      ],
      "execution_count": 43,
      "outputs": [
        {
          "output_type": "execute_result",
          "data": {
            "text/html": [
              "<div>\n",
              "<style scoped>\n",
              "    .dataframe tbody tr th:only-of-type {\n",
              "        vertical-align: middle;\n",
              "    }\n",
              "\n",
              "    .dataframe tbody tr th {\n",
              "        vertical-align: top;\n",
              "    }\n",
              "\n",
              "    .dataframe thead th {\n",
              "        text-align: right;\n",
              "    }\n",
              "</style>\n",
              "<table border=\"1\" class=\"dataframe\">\n",
              "  <thead>\n",
              "    <tr style=\"text-align: right;\">\n",
              "      <th></th>\n",
              "      <th>A</th>\n",
              "      <th>B</th>\n",
              "      <th>C</th>\n",
              "      <th>D</th>\n",
              "    </tr>\n",
              "  </thead>\n",
              "  <tbody>\n",
              "    <tr>\n",
              "      <th>2013-01-02</th>\n",
              "      <td>0.330320</td>\n",
              "      <td>-0.488096</td>\n",
              "      <td>-0.449667</td>\n",
              "      <td>1.273794</td>\n",
              "    </tr>\n",
              "    <tr>\n",
              "      <th>2013-01-05</th>\n",
              "      <td>0.657156</td>\n",
              "      <td>-1.127420</td>\n",
              "      <td>-0.126518</td>\n",
              "      <td>-0.308972</td>\n",
              "    </tr>\n",
              "  </tbody>\n",
              "</table>\n",
              "</div>"
            ],
            "text/plain": [
              "                   A         B         C         D\n",
              "2013-01-02  0.330320 -0.488096 -0.449667  1.273794\n",
              "2013-01-05  0.657156 -1.127420 -0.126518 -0.308972"
            ]
          },
          "metadata": {
            "tags": []
          },
          "execution_count": 43
        }
      ]
    },
    {
      "metadata": {
        "id": "5CtcSFOXIe8i",
        "colab_type": "code",
        "colab": {
          "base_uri": "https://localhost:8080/",
          "height": 238
        },
        "outputId": "411d748a-6b4e-40fb-a687-abe6609ff946"
      },
      "cell_type": "code",
      "source": [
        "# select value where value ...\n",
        "df[df>0]"
      ],
      "execution_count": 45,
      "outputs": [
        {
          "output_type": "execute_result",
          "data": {
            "text/html": [
              "<div>\n",
              "<style scoped>\n",
              "    .dataframe tbody tr th:only-of-type {\n",
              "        vertical-align: middle;\n",
              "    }\n",
              "\n",
              "    .dataframe tbody tr th {\n",
              "        vertical-align: top;\n",
              "    }\n",
              "\n",
              "    .dataframe thead th {\n",
              "        text-align: right;\n",
              "    }\n",
              "</style>\n",
              "<table border=\"1\" class=\"dataframe\">\n",
              "  <thead>\n",
              "    <tr style=\"text-align: right;\">\n",
              "      <th></th>\n",
              "      <th>A</th>\n",
              "      <th>B</th>\n",
              "      <th>C</th>\n",
              "      <th>D</th>\n",
              "    </tr>\n",
              "  </thead>\n",
              "  <tbody>\n",
              "    <tr>\n",
              "      <th>2013-01-01</th>\n",
              "      <td>NaN</td>\n",
              "      <td>NaN</td>\n",
              "      <td>NaN</td>\n",
              "      <td>NaN</td>\n",
              "    </tr>\n",
              "    <tr>\n",
              "      <th>2013-01-02</th>\n",
              "      <td>0.330320</td>\n",
              "      <td>NaN</td>\n",
              "      <td>NaN</td>\n",
              "      <td>1.273794</td>\n",
              "    </tr>\n",
              "    <tr>\n",
              "      <th>2013-01-03</th>\n",
              "      <td>NaN</td>\n",
              "      <td>0.079873</td>\n",
              "      <td>0.277706</td>\n",
              "      <td>NaN</td>\n",
              "    </tr>\n",
              "    <tr>\n",
              "      <th>2013-01-04</th>\n",
              "      <td>NaN</td>\n",
              "      <td>1.510191</td>\n",
              "      <td>0.383898</td>\n",
              "      <td>NaN</td>\n",
              "    </tr>\n",
              "    <tr>\n",
              "      <th>2013-01-05</th>\n",
              "      <td>0.657156</td>\n",
              "      <td>NaN</td>\n",
              "      <td>NaN</td>\n",
              "      <td>NaN</td>\n",
              "    </tr>\n",
              "    <tr>\n",
              "      <th>2013-01-06</th>\n",
              "      <td>NaN</td>\n",
              "      <td>NaN</td>\n",
              "      <td>1.232420</td>\n",
              "      <td>0.104411</td>\n",
              "    </tr>\n",
              "  </tbody>\n",
              "</table>\n",
              "</div>"
            ],
            "text/plain": [
              "                   A         B         C         D\n",
              "2013-01-01       NaN       NaN       NaN       NaN\n",
              "2013-01-02  0.330320       NaN       NaN  1.273794\n",
              "2013-01-03       NaN  0.079873  0.277706       NaN\n",
              "2013-01-04       NaN  1.510191  0.383898       NaN\n",
              "2013-01-05  0.657156       NaN       NaN       NaN\n",
              "2013-01-06       NaN       NaN  1.232420  0.104411"
            ]
          },
          "metadata": {
            "tags": []
          },
          "execution_count": 45
        }
      ]
    },
    {
      "metadata": {
        "id": "SMZhd62wIji9",
        "colab_type": "code",
        "colab": {
          "base_uri": "https://localhost:8080/",
          "height": 143
        },
        "outputId": "b30d9529-a6cb-4114-f0ed-db70e14b8a89"
      },
      "cell_type": "code",
      "source": [
        "# select where row where value is in ...\n",
        "\n",
        "df2 = df.copy()\n",
        "df2['E'] = ['one', 'one','two','three','four','three']\n",
        "\n",
        "df2[ df2['E'].isin(['one','four',]) ]\n"
      ],
      "execution_count": 70,
      "outputs": [
        {
          "output_type": "execute_result",
          "data": {
            "text/html": [
              "<div>\n",
              "<style scoped>\n",
              "    .dataframe tbody tr th:only-of-type {\n",
              "        vertical-align: middle;\n",
              "    }\n",
              "\n",
              "    .dataframe tbody tr th {\n",
              "        vertical-align: top;\n",
              "    }\n",
              "\n",
              "    .dataframe thead th {\n",
              "        text-align: right;\n",
              "    }\n",
              "</style>\n",
              "<table border=\"1\" class=\"dataframe\">\n",
              "  <thead>\n",
              "    <tr style=\"text-align: right;\">\n",
              "      <th></th>\n",
              "      <th>A</th>\n",
              "      <th>B</th>\n",
              "      <th>C</th>\n",
              "      <th>D</th>\n",
              "      <th>E</th>\n",
              "    </tr>\n",
              "  </thead>\n",
              "  <tbody>\n",
              "    <tr>\n",
              "      <th>2013-01-01</th>\n",
              "      <td>-0.337425</td>\n",
              "      <td>0.419965</td>\n",
              "      <td>0.064828</td>\n",
              "      <td>0.065867</td>\n",
              "      <td>one</td>\n",
              "    </tr>\n",
              "    <tr>\n",
              "      <th>2013-01-02</th>\n",
              "      <td>0.715076</td>\n",
              "      <td>0.896451</td>\n",
              "      <td>0.093573</td>\n",
              "      <td>1.164690</td>\n",
              "      <td>one</td>\n",
              "    </tr>\n",
              "    <tr>\n",
              "      <th>2013-01-05</th>\n",
              "      <td>1.549626</td>\n",
              "      <td>0.549848</td>\n",
              "      <td>-0.936035</td>\n",
              "      <td>-0.419732</td>\n",
              "      <td>four</td>\n",
              "    </tr>\n",
              "  </tbody>\n",
              "</table>\n",
              "</div>"
            ],
            "text/plain": [
              "                   A         B         C         D     E\n",
              "2013-01-01 -0.337425  0.419965  0.064828  0.065867   one\n",
              "2013-01-02  0.715076  0.896451  0.093573  1.164690   one\n",
              "2013-01-05  1.549626  0.549848 -0.936035 -0.419732  four"
            ]
          },
          "metadata": {
            "tags": []
          },
          "execution_count": 70
        }
      ]
    },
    {
      "metadata": {
        "id": "xqhA5cRjK1J6",
        "colab_type": "code",
        "colab": {}
      },
      "cell_type": "code",
      "source": [
        ""
      ],
      "execution_count": 0,
      "outputs": []
    },
    {
      "metadata": {
        "id": "ZLPFx0LcObAE",
        "colab_type": "text"
      },
      "cell_type": "markdown",
      "source": [
        "## Missing data ..."
      ]
    },
    {
      "metadata": {
        "id": "LgHGWeLEOiWq",
        "colab_type": "code",
        "colab": {
          "base_uri": "https://localhost:8080/",
          "height": 34
        },
        "outputId": "f825154e-5899-402e-920e-3116dc8c22db"
      },
      "cell_type": "code",
      "source": [
        "np.NaN"
      ],
      "execution_count": 83,
      "outputs": [
        {
          "output_type": "execute_result",
          "data": {
            "text/plain": [
              "nan"
            ]
          },
          "metadata": {
            "tags": []
          },
          "execution_count": 83
        }
      ]
    },
    {
      "metadata": {
        "id": "t4jUijLvO0Yv",
        "colab_type": "text"
      },
      "cell_type": "markdown",
      "source": [
        "## Unclassified"
      ]
    },
    {
      "metadata": {
        "id": "AFk2FlnGSsN6",
        "colab_type": "code",
        "colab": {}
      },
      "cell_type": "code",
      "source": [
        ""
      ],
      "execution_count": 0,
      "outputs": []
    },
    {
      "metadata": {
        "id": "78UUpSoNO_Re",
        "colab_type": "code",
        "colab": {}
      },
      "cell_type": "code",
      "source": [
        ""
      ],
      "execution_count": 0,
      "outputs": []
    }
  ]
}